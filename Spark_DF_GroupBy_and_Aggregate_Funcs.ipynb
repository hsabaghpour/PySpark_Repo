{
  "nbformat": 4,
  "nbformat_minor": 0,
  "metadata": {
    "colab": {
      "provenance": [],
      "authorship_tag": "ABX9TyOcqM9sn2/3xcbZ+Dfbdjnp",
      "include_colab_link": true
    },
    "kernelspec": {
      "name": "python3",
      "display_name": "Python 3"
    },
    "language_info": {
      "name": "python"
    }
  },
  "cells": [
    {
      "cell_type": "markdown",
      "metadata": {
        "id": "view-in-github",
        "colab_type": "text"
      },
      "source": [
        "<a href=\"https://colab.research.google.com/github/hsabaghpour/PySpark_Repo/blob/main/Spark_DF_GroupBy_and_Aggregate_Funcs.ipynb\" target=\"_parent\"><img src=\"https://colab.research.google.com/assets/colab-badge.svg\" alt=\"Open In Colab\"/></a>"
      ]
    },
    {
      "cell_type": "code",
      "execution_count": 1,
      "metadata": {
        "id": "PWnjzOZGuYV8"
      },
      "outputs": [],
      "source": [
        "from pyspark.sql import SparkSession"
      ]
    },
    {
      "cell_type": "code",
      "source": [
        "Spark = SparkSession.builder.appName('aggs').getOrCreate()"
      ],
      "metadata": {
        "id": "NjL7LL6BuvYR"
      },
      "execution_count": 2,
      "outputs": []
    },
    {
      "cell_type": "code",
      "source": [
        "df = Spark.read.csv('sales_info.csv', inferSchema=True, header=True)"
      ],
      "metadata": {
        "id": "xXWk7VmSvFw1"
      },
      "execution_count": 3,
      "outputs": []
    },
    {
      "cell_type": "code",
      "source": [
        "df.printSchema()"
      ],
      "metadata": {
        "colab": {
          "base_uri": "https://localhost:8080/"
        },
        "id": "cEIhurgVvN7g",
        "outputId": "e28d5cda-535d-42ec-f9c3-4222e43464fb"
      },
      "execution_count": 4,
      "outputs": [
        {
          "output_type": "stream",
          "name": "stdout",
          "text": [
            "root\n",
            " |-- Company: string (nullable = true)\n",
            " |-- Person: string (nullable = true)\n",
            " |-- Sales: double (nullable = true)\n",
            "\n"
          ]
        }
      ]
    },
    {
      "cell_type": "markdown",
      "source": [],
      "metadata": {
        "id": "fD6G-sqXvTYD"
      }
    },
    {
      "cell_type": "code",
      "source": [
        "df.show()"
      ],
      "metadata": {
        "colab": {
          "base_uri": "https://localhost:8080/"
        },
        "id": "etAHHJ9FvQcw",
        "outputId": "863bba07-88b1-4778-af53-1c270710cdf8"
      },
      "execution_count": 5,
      "outputs": [
        {
          "output_type": "stream",
          "name": "stdout",
          "text": [
            "+-------+-------+-----+\n",
            "|Company| Person|Sales|\n",
            "+-------+-------+-----+\n",
            "|   GOOG|    Sam|200.0|\n",
            "|   GOOG|Charlie|120.0|\n",
            "|   GOOG|  Frank|340.0|\n",
            "|   MSFT|   Tina|600.0|\n",
            "|   MSFT|    Amy|124.0|\n",
            "|   MSFT|Vanessa|243.0|\n",
            "|     FB|   Carl|870.0|\n",
            "|     FB|  Sarah|350.0|\n",
            "|   APPL|   John|250.0|\n",
            "|   APPL|  Linda|130.0|\n",
            "|   APPL|   Mike|750.0|\n",
            "|   APPL|  Chris|350.0|\n",
            "+-------+-------+-----+\n",
            "\n"
          ]
        }
      ]
    },
    {
      "cell_type": "code",
      "source": [
        "df.groupBy('Company').mean().show()"
      ],
      "metadata": {
        "colab": {
          "base_uri": "https://localhost:8080/"
        },
        "id": "HCTP1QAJvUNd",
        "outputId": "bceee0e3-90bb-4c5d-9acf-9bcd0eb1a676"
      },
      "execution_count": 6,
      "outputs": [
        {
          "output_type": "stream",
          "name": "stdout",
          "text": [
            "+-------+-----------------+\n",
            "|Company|       avg(Sales)|\n",
            "+-------+-----------------+\n",
            "|   APPL|            370.0|\n",
            "|   GOOG|            220.0|\n",
            "|     FB|            610.0|\n",
            "|   MSFT|322.3333333333333|\n",
            "+-------+-----------------+\n",
            "\n"
          ]
        }
      ]
    },
    {
      "cell_type": "code",
      "source": [
        "df.groupBy('Company').sum().show()"
      ],
      "metadata": {
        "colab": {
          "base_uri": "https://localhost:8080/"
        },
        "id": "k8A1D0vivdny",
        "outputId": "4bdf0553-646f-4dff-8218-a2b2af512684"
      },
      "execution_count": 7,
      "outputs": [
        {
          "output_type": "stream",
          "name": "stdout",
          "text": [
            "+-------+----------+\n",
            "|Company|sum(Sales)|\n",
            "+-------+----------+\n",
            "|   APPL|    1480.0|\n",
            "|   GOOG|     660.0|\n",
            "|     FB|    1220.0|\n",
            "|   MSFT|     967.0|\n",
            "+-------+----------+\n",
            "\n"
          ]
        }
      ]
    },
    {
      "cell_type": "code",
      "source": [
        "df.groupBy('Company').count().show()"
      ],
      "metadata": {
        "colab": {
          "base_uri": "https://localhost:8080/"
        },
        "id": "p5e7Voo6vodt",
        "outputId": "a733d18c-059a-4eaf-da1c-2923d18dd7c6"
      },
      "execution_count": 8,
      "outputs": [
        {
          "output_type": "stream",
          "name": "stdout",
          "text": [
            "+-------+-----+\n",
            "|Company|count|\n",
            "+-------+-----+\n",
            "|   APPL|    4|\n",
            "|   GOOG|    3|\n",
            "|     FB|    2|\n",
            "|   MSFT|    3|\n",
            "+-------+-----+\n",
            "\n"
          ]
        }
      ]
    },
    {
      "cell_type": "code",
      "source": [
        "df.agg({'Sales':'sum'}).show()"
      ],
      "metadata": {
        "colab": {
          "base_uri": "https://localhost:8080/"
        },
        "id": "7ZRP-cKbvsCP",
        "outputId": "9d6c7192-d11c-4865-bd2e-64d7633a1a5b"
      },
      "execution_count": 9,
      "outputs": [
        {
          "output_type": "stream",
          "name": "stdout",
          "text": [
            "+----------+\n",
            "|sum(Sales)|\n",
            "+----------+\n",
            "|    4327.0|\n",
            "+----------+\n",
            "\n"
          ]
        }
      ]
    },
    {
      "cell_type": "code",
      "source": [
        "group_data = df.groupBy('Company')"
      ],
      "metadata": {
        "id": "ypHFOxj7vyb6"
      },
      "execution_count": 10,
      "outputs": []
    },
    {
      "cell_type": "code",
      "source": [
        "group_data.agg({'Sales':'max'}).show()"
      ],
      "metadata": {
        "colab": {
          "base_uri": "https://localhost:8080/"
        },
        "id": "GkD5fI59v5w5",
        "outputId": "e2480960-d54c-4a8d-c82d-8fd38f9c044c"
      },
      "execution_count": 11,
      "outputs": [
        {
          "output_type": "stream",
          "name": "stdout",
          "text": [
            "+-------+----------+\n",
            "|Company|max(Sales)|\n",
            "+-------+----------+\n",
            "|   APPL|     750.0|\n",
            "|   GOOG|     340.0|\n",
            "|     FB|     870.0|\n",
            "|   MSFT|     600.0|\n",
            "+-------+----------+\n",
            "\n"
          ]
        }
      ]
    },
    {
      "cell_type": "code",
      "source": [
        "from pyspark.sql.functions import countDistinct, avg, stddev"
      ],
      "metadata": {
        "id": "nIZ9WWTmv8QA"
      },
      "execution_count": 12,
      "outputs": []
    },
    {
      "cell_type": "code",
      "source": [
        "df.select(countDistinct('Sales')).show()"
      ],
      "metadata": {
        "colab": {
          "base_uri": "https://localhost:8080/"
        },
        "id": "kbpG9hNdwGj3",
        "outputId": "40f51e92-7e7c-4873-a95d-02cd4672640a"
      },
      "execution_count": 13,
      "outputs": [
        {
          "output_type": "stream",
          "name": "stdout",
          "text": [
            "+---------------------+\n",
            "|count(DISTINCT Sales)|\n",
            "+---------------------+\n",
            "|                   11|\n",
            "+---------------------+\n",
            "\n"
          ]
        }
      ]
    },
    {
      "cell_type": "code",
      "source": [
        "df.select(avg('Sales').alias(\"AV SALE \")).show()"
      ],
      "metadata": {
        "colab": {
          "base_uri": "https://localhost:8080/"
        },
        "id": "wEJZxMewwJCB",
        "outputId": "9dfe0949-92ad-427a-a7bd-6676afad98af"
      },
      "execution_count": 15,
      "outputs": [
        {
          "output_type": "stream",
          "name": "stdout",
          "text": [
            "+-----------------+\n",
            "|         AV SALE |\n",
            "+-----------------+\n",
            "|360.5833333333333|\n",
            "+-----------------+\n",
            "\n"
          ]
        }
      ]
    },
    {
      "cell_type": "code",
      "source": [
        "df.select(stddev('Sales')).show()"
      ],
      "metadata": {
        "colab": {
          "base_uri": "https://localhost:8080/"
        },
        "id": "kTxbEidQwO5g",
        "outputId": "0ed6e30a-e75f-4038-e25f-5ca55c4c0be7"
      },
      "execution_count": 16,
      "outputs": [
        {
          "output_type": "stream",
          "name": "stdout",
          "text": [
            "+------------------+\n",
            "|     stddev(Sales)|\n",
            "+------------------+\n",
            "|250.08742410799007|\n",
            "+------------------+\n",
            "\n"
          ]
        }
      ]
    },
    {
      "cell_type": "code",
      "source": [
        "from pyspark.sql.functions import format_number"
      ],
      "metadata": {
        "id": "yYzaTOKcwaHp"
      },
      "execution_count": 17,
      "outputs": []
    },
    {
      "cell_type": "code",
      "source": [
        "sales_std = df.select(stddev('Sales').alias('std'))"
      ],
      "metadata": {
        "id": "jcJwcPDuwdmE"
      },
      "execution_count": 18,
      "outputs": []
    },
    {
      "cell_type": "code",
      "source": [
        "sales_std.show()"
      ],
      "metadata": {
        "colab": {
          "base_uri": "https://localhost:8080/"
        },
        "id": "Xbhw4euFwmOv",
        "outputId": "c1764908-f583-4d6c-9a8a-e8ccd7cf50cb"
      },
      "execution_count": 20,
      "outputs": [
        {
          "output_type": "stream",
          "name": "stdout",
          "text": [
            "+------------------+\n",
            "|               std|\n",
            "+------------------+\n",
            "|250.08742410799007|\n",
            "+------------------+\n",
            "\n"
          ]
        }
      ]
    },
    {
      "cell_type": "code",
      "source": [
        "sales_std.select(format_number('std', 2).alias('std')).show()"
      ],
      "metadata": {
        "colab": {
          "base_uri": "https://localhost:8080/"
        },
        "id": "9o0Sy9S-woh7",
        "outputId": "5e8c8bb8-f58e-4744-b50e-ba49b1fe818d"
      },
      "execution_count": 21,
      "outputs": [
        {
          "output_type": "stream",
          "name": "stdout",
          "text": [
            "+------+\n",
            "|   std|\n",
            "+------+\n",
            "|250.09|\n",
            "+------+\n",
            "\n"
          ]
        }
      ]
    },
    {
      "cell_type": "code",
      "source": [
        "df.orderBy('Sales').show()"
      ],
      "metadata": {
        "colab": {
          "base_uri": "https://localhost:8080/"
        },
        "id": "AND2fukMw35o",
        "outputId": "59c7f9f9-6d43-44a7-81bb-744599eea445"
      },
      "execution_count": 22,
      "outputs": [
        {
          "output_type": "stream",
          "name": "stdout",
          "text": [
            "+-------+-------+-----+\n",
            "|Company| Person|Sales|\n",
            "+-------+-------+-----+\n",
            "|   GOOG|Charlie|120.0|\n",
            "|   MSFT|    Amy|124.0|\n",
            "|   APPL|  Linda|130.0|\n",
            "|   GOOG|    Sam|200.0|\n",
            "|   MSFT|Vanessa|243.0|\n",
            "|   APPL|   John|250.0|\n",
            "|   GOOG|  Frank|340.0|\n",
            "|     FB|  Sarah|350.0|\n",
            "|   APPL|  Chris|350.0|\n",
            "|   MSFT|   Tina|600.0|\n",
            "|   APPL|   Mike|750.0|\n",
            "|     FB|   Carl|870.0|\n",
            "+-------+-------+-----+\n",
            "\n"
          ]
        }
      ]
    },
    {
      "cell_type": "code",
      "source": [
        "df.orderBy(df['Sales'].desc()).show()"
      ],
      "metadata": {
        "colab": {
          "base_uri": "https://localhost:8080/"
        },
        "id": "L4LJphGtxCsy",
        "outputId": "b561e6c5-8cc1-42eb-a14b-067b1a89d385"
      },
      "execution_count": 23,
      "outputs": [
        {
          "output_type": "stream",
          "name": "stdout",
          "text": [
            "+-------+-------+-----+\n",
            "|Company| Person|Sales|\n",
            "+-------+-------+-----+\n",
            "|     FB|   Carl|870.0|\n",
            "|   APPL|   Mike|750.0|\n",
            "|   MSFT|   Tina|600.0|\n",
            "|     FB|  Sarah|350.0|\n",
            "|   APPL|  Chris|350.0|\n",
            "|   GOOG|  Frank|340.0|\n",
            "|   APPL|   John|250.0|\n",
            "|   MSFT|Vanessa|243.0|\n",
            "|   GOOG|    Sam|200.0|\n",
            "|   APPL|  Linda|130.0|\n",
            "|   MSFT|    Amy|124.0|\n",
            "|   GOOG|Charlie|120.0|\n",
            "+-------+-------+-----+\n",
            "\n"
          ]
        }
      ]
    }
  ]
}